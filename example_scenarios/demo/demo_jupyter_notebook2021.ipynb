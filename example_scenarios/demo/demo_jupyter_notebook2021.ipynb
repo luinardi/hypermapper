{
 "cells": [
  {
   "cell_type": "markdown",
   "metadata": {},
   "source": [
    "# Demo HyperMapper 2020: \n",
    "# a Practical Design Space Exploration Framework \n",
    "\n",
    "You are looking for a parameter setting that minimizes some performance metric of your algorithm (such as runtime, error, or cost). \n",
    "\n",
    "To use HyperMapper for this purpose you need to tell it about your parameters and how to evaluate your algorithm's performance. "
   ]
  },
  {
   "cell_type": "markdown",
   "metadata": {},
   "source": [
    "### Example 1: The Branin Black-box Function\n",
    "\n",
    "First, we will show how to do this on a running example using a simple 1-dimensional version of the Branin function (https://www.sfu.ca/~ssurjano/branin.html). \n",
    "\n",
    "We look for minimizing the value of this function given the parameter $x_1 \\in [-5, 10]$.\n",
    "\n",
    "Consider the 1-dimensional Branin black-box function evaluation (which depends on the input variables x1), this is the objective we want to minimize:"
   ]
  },
  {
   "cell_type": "code",
   "execution_count": 1,
   "metadata": {},
   "outputs": [],
   "source": [
    "import math\n",
    "def branin_function_1d(X):\n",
    "    # The function must receive a dictionary\n",
    "    x1 = X['x1']\n",
    "    \n",
    "    # Branin function computation\n",
    "    a = 1.0\n",
    "    b = 5.1 / (4.0 * math.pi * math.pi)\n",
    "    c = 5.0 / math.pi\n",
    "    r = 6.0\n",
    "    s = 10.0\n",
    "    t = 1.0 / (8.0 * math.pi)\n",
    "    x2 = 2.275\n",
    "    value = a * (x2 - b * x1 * x1 + c * x1 - r) ** 2 + s * (1 - t) * math.cos(x1) + s\n",
    "\n",
    "    # The function must return the objective value (a number)\n",
    "    return value"
   ]
  },
  {
   "cell_type": "markdown",
   "metadata": {},
   "source": [
    "We can plot the 1D Branin function and visualize the optimum (the minimum):"
   ]
  },
  {
   "cell_type": "code",
   "execution_count": 2,
   "metadata": {},
   "outputs": [
    {
     "data": {
      "image/png": "[encoded data removed]",
      "text/plain": [
       "<Figure size 864x432 with 1 Axes>"
      ]
     },
     "metadata": {
      "needs_background": "light"
     },
     "output_type": "display_data"
    },
    {
     "name": "stdout",
     "output_type": "stream",
     "text": [
      "The 1d Branin function has one global optimum at x1 = π\n",
      "(x, y) at minimum is: (3.141592653589793,0.39788735772973816)\n"
     ]
    }
   ],
   "source": [
    "import matplotlib\n",
    "import matplotlib.pyplot as plt\n",
    "import pandas as pd\n",
    "import numpy as np\n",
    "%matplotlib inline\n",
    "plt.rcParams['figure.figsize'] = [12, 6]\n",
    "plt.rcParams['font.size'] = 18\n",
    "point_size = matplotlib.rcParams['lines.markersize']**2.8\n",
    "point_size_optimum = matplotlib.rcParams['lines.markersize']**2\n",
    "\n",
    "optimum = math.pi\n",
    "value_at_optimum=branin_function_1d({'x1': optimum})\n",
    "\n",
    "# Sample 1000 (x,y) pairs from the function to plot its curve\n",
    "branin_line_xs = np.linspace(-5, 10, 1000)\n",
    "branin_line_ys = []\n",
    "for x in branin_line_xs:\n",
    "    y = branin_function_1d({'x1': x})\n",
    "    branin_line_ys.append(y)\n",
    "plt.plot(branin_line_xs, branin_line_ys, label=\"1D Branin Function\")\n",
    "\n",
    "# Mark the known optimum on the curve\n",
    "plt.scatter(optimum, value_at_optimum, s=point_size_optimum, marker='o', color=\"black\", label=\"Minimum\")\n",
    "\n",
    "plt.legend()\n",
    "plt.xlabel(\"x1\")\n",
    "plt.ylabel(\"value\")\n",
    "plt.show()\n",
    "print(\"The 1d Branin function has one global optimum at x1 = \\u03C0\", flush=True)\n",
    "print(\"(x, y) at minimum is: (\"+str(optimum)+\",\"+str(value_at_optimum)+\")\", flush=True)"
   ]
  },
  {
   "cell_type": "markdown",
   "metadata": {},
   "source": [
    "### Setup HyperMapper to Run on Branin"
   ]
  },
  {
   "cell_type": "markdown",
   "metadata": {},
   "source": [
    "The inputs to HyperMapper specify an instance of the software configuration problem. In this example, we are showing how to optimize the Branin function value with a single dimension. The following is what needs to be specified as a json syntax to run Branin:"
   ]
  },
  {
   "cell_type": "raw",
   "metadata": {},
   "source": [
    "{\n",
    "    \"application_name\": \"1d_branin\",\n",
    "    \"optimization_objectives\": [\"value\"],\n",
    "    \"design_of_experiment\": { \"number_of_samples\": 3 }\n",
    "    \"optimization_iterations\": 10,\n",
    "    \"models\":{\n",
    "        \"model\": \"gaussian_process\"\n",
    "    },\n",
    "    \"input_parameters\" : {\n",
    "        \"x1\": {\n",
    "            \"parameter_type\" : \"real\",\n",
    "            \"values\" : [-5, 10]\n",
    "        }\n",
    "    }\n",
    "}"
   ]
  },
  {
   "cell_type": "markdown",
   "metadata": {},
   "source": [
    "We create the json in python and then dump it on a file: "
   ]
  },
  {
   "cell_type": "code",
   "execution_count": 3,
   "metadata": {},
   "outputs": [],
   "source": [
    "import json\n",
    "scenario = {}\n",
    "scenario[\"application_name\"] = \"1d_branin\"\n",
    "scenario[\"optimization_objectives\"] = [\"value\"]\n",
    "\n",
    "number_of_RS = 3\n",
    "scenario[\"design_of_experiment\"] = {}\n",
    "scenario[\"design_of_experiment\"][\"number_of_samples\"] = number_of_RS\n",
    "\n",
    "scenario[\"optimization_iterations\"] = 10\n",
    "\n",
    "# scenario[\"models\"] = {}\n",
    "# scenario[\"models\"][\"model\"] = \"gaussian_process\"\n",
    "\n",
    "scenario[\"input_parameters\"] = {}\n",
    "x1 = {}\n",
    "x1[\"parameter_type\"] = \"real\"\n",
    "x1[\"values\"] = [-5, 10]\n",
    "\n",
    "scenario[\"input_parameters\"][\"x1\"] = x1\n",
    "\n",
    "with open(\"example_1d_branin_scenario.json\", \"w\") as scenario_file:\n",
    "    json.dump(scenario, scenario_file, indent=4)\n"
   ]
  },
  {
   "cell_type": "markdown",
   "metadata": {},
   "source": [
    "To double check, print the json generated: "
   ]
  },
  {
   "cell_type": "code",
   "execution_count": 4,
   "metadata": {},
   "outputs": [
    {
     "name": "stdout",
     "output_type": "stream",
     "text": [
      "{\n",
      "    \"application_name\": \"1d_branin\",\n",
      "    \"optimization_objectives\": [\n",
      "        \"value\"\n",
      "    ],\n",
      "    \"design_of_experiment\": {\n",
      "        \"number_of_samples\": 3\n",
      "    },\n",
      "    \"optimization_iterations\": 10,\n",
      "    \"input_parameters\": {\n",
      "        \"x1\": {\n",
      "            \"parameter_type\": \"real\",\n",
      "            \"values\": [\n",
      "                -5,\n",
      "                10\n",
      "            ]\n",
      "        }\n",
      "    }\n",
      "}\n"
     ]
    }
   ],
   "source": [
    "f = open(\"example_1d_branin_scenario.json\", \"r\")\n",
    "text = f.read()\n",
    "print(text, flush=True)\n",
    "f.close()"
   ]
  },
  {
   "cell_type": "markdown",
   "metadata": {},
   "source": [
    "### Run HyperMapper\n",
    "You are all set to run Branin and HyperMapper together!\n",
    "\n",
    "To optimize the branin function, call HyperMapper's optimize method with the json file and the branin function as parameters:"
   ]
  },
  {
   "cell_type": "code",
   "execution_count": 5,
   "metadata": {
    "scrolled": false
   },
   "outputs": [
    {
     "name": "stdout",
     "output_type": "stream",
     "text": [
      "Design of experiment phase, number of new doe samples = 3 .......\n",
      "x1,value,Timestamp\n",
      "1.1933257463373836,17.57804906830797,15\n",
      "-0.08905270104721374,34.52360205366047,21\n",
      "2.8011810823122216,1.0275304809091583,30\n",
      "\n",
      "\n",
      "End of doe/resume phase, the number of evaluated configurations is: 3\n",
      "\n",
      "Starting optimization iteration 1\n",
      "x1,value,Timestamp\n",
      "-1.0422560261567733,45.358155051266756,150\n",
      "\n",
      "Starting optimization iteration 2\n",
      "x1,value,Timestamp\n",
      "-4.532809738685085,193.0671417591177,3011\n",
      "\n",
      "Starting optimization iteration 3\n",
      "x1,value,Timestamp\n",
      "-2.001703246958128,61.170791286074525,4746\n",
      "\n",
      "Starting optimization iteration 4\n",
      "x1,value,Timestamp\n",
      "-2.6368663932929937,79.38639493701365,7151\n",
      "\n",
      "Starting optimization iteration 5\n",
      "x1,value,Timestamp\n",
      "-0.3366647761930741,37.34263129343225,9955\n",
      "\n",
      "Starting optimization iteration 6\n",
      "x1,value,Timestamp\n",
      "1.0554826658791345,19.523998736947735,12285\n",
      "\n",
      "Starting optimization iteration 7\n",
      "x1,value,Timestamp\n",
      "-3.006621251312936,94.14860597672781,14204\n",
      "\n",
      "Starting optimization iteration 8\n",
      "x1,value,Timestamp\n",
      "0.9176401695372487,21.467774214815265,16323\n",
      "\n",
      "Starting optimization iteration 9\n",
      "x1,value,Timestamp\n",
      "0.5326412781030818,26.76288288940262,18983\n",
      "\n",
      "Starting optimization iteration 10\n",
      "x1,value,Timestamp\n",
      "2.3400948671290864,3.821793609016116,20733\n",
      "\n",
      "End of Bayesian Optimization\n",
      "Best point found:\n",
      "x1,value\n",
      "2.8011810823122216,1.0275304809091583\n",
      "\n",
      "End of HyperMapper\n"
     ]
    }
   ],
   "source": [
    "import sys\n",
    "import os\n",
    "from hypermapper import optimizer\n",
    "stdout = sys.stdout # Jupyter uses a special stdout and HyperMapper logging overwrites it. Save stdout to restore later\n",
    "\n",
    "# Call HyperMapper to optimize the 1d Branin function\n",
    "optimizer.optimize(\"example_1d_branin_scenario.json\", branin_function_1d)\n",
    "sys.stdout = stdout"
   ]
  },
  {
   "cell_type": "markdown",
   "metadata": {},
   "source": [
    "The result of this script is a csv file called \"1d_branin_output_samples.csv\". You can find all the samples explored by HyperMapper during optimization in this file."
   ]
  },
  {
   "cell_type": "markdown",
   "metadata": {},
   "source": [
    "### Visualize Results\n",
    "We can visualize the optimization process with a scatterplot of the points explored during optimization. The code below plots the points explored by HyperMapper during optimization. "
   ]
  },
  {
   "cell_type": "code",
   "execution_count": 6,
   "metadata": {
    "scrolled": false
   },
   "outputs": [
    {
     "data": {
      "image/png": "[encoded data removed]",
      "text/plain": [
       "<Figure size 864x432 with 1 Axes>"
      ]
     },
     "metadata": {
      "needs_background": "light"
     },
     "output_type": "display_data"
    }
   ],
   "source": [
    "cmap = plt.get_cmap('winter')\n",
    "plt.plot(branin_line_xs, branin_line_ys, label=\"1D Branin Function\")\n",
    "\n",
    "# Load the points evaluated by HyperMapper during optimization\n",
    "optimum = math.pi\n",
    "sampled_points = pd.read_csv(\"1d_branin_output_samples.csv\", usecols=['x1', 'value'])\n",
    "x_points = sampled_points['x1'].values\n",
    "y_points = sampled_points['value'].values\n",
    "\n",
    "# Split between DoE and BO\n",
    "doe_x = x_points[:number_of_RS]\n",
    "doe_y = y_points[:number_of_RS]\n",
    "bo_x = x_points[number_of_RS:]\n",
    "bo_y = y_points[number_of_RS:]\n",
    "bo_iterations = list(range(len(bo_x)))\n",
    "\n",
    "plt.scatter(doe_x, doe_y, s=point_size, marker='x', color=\"red\", label=\"Initial Random Sampling\")\n",
    "plt.scatter(optimum, value_at_optimum, s=point_size_optimum, marker='o', color=\"black\", label=\"Minimum\")\n",
    "plt.scatter(bo_x, bo_y, s=point_size, marker='x', c=bo_iterations, cmap=cmap, label=\"Bayesian Otimization\")\n",
    "\n",
    "plt.legend()\n",
    "plt.xlabel(\"x1\")\n",
    "plt.ylabel(\"value\")\n",
    "plt.show()"
   ]
  },
  {
   "cell_type": "markdown",
   "metadata": {},
   "source": [
    "Blue points show points explored during optimization, with brighter points denoting points explored in later iterations. "
   ]
  },
  {
   "cell_type": "markdown",
   "metadata": {
    "collapsed": true
   },
   "source": [
    "### Example 2: Ordinal Input\n",
    "\n",
    "In this example, we are showing how to optimize the Branin function with ordinal inputs. Ordinal parameters are discrete ordered numerical parameters. \n",
    "\n",
    "We use the same Branin function we defined in Example 1, but change the optimization configuration.\n"
   ]
  },
  {
   "cell_type": "markdown",
   "metadata": {},
   "source": [
    "### Setup HyperMapper to Run on Branin with Ordinal Variables"
   ]
  },
  {
   "cell_type": "markdown",
   "metadata": {},
   "source": [
    "We create a json for the new configuration in python and dump it on a file."
   ]
  },
  {
   "cell_type": "code",
   "execution_count": 7,
   "metadata": {},
   "outputs": [],
   "source": [
    "scenario = {}\n",
    "scenario[\"application_name\"] = \"1d_branin\"\n",
    "scenario[\"optimization_objectives\"] = [\"value\"]\n",
    "\n",
    "number_of_RS = 2\n",
    "scenario[\"design_of_experiment\"] = {}\n",
    "scenario[\"design_of_experiment\"][\"number_of_samples\"] = number_of_RS\n",
    "scenario[\"optimization_iterations\"] = 8\n",
    "\n",
    "# scenario[\"models\"] = {}\n",
    "# scenario[\"models\"][\"model\"] = \"gaussian_process\"\n",
    "\n",
    "scenario[\"input_parameters\"] = {}\n",
    "x1 = {}\n",
    "x1[\"parameter_type\"] = \"ordinal\"\n",
    "x1[\"values\"] = [-5.0, -4.5, -4.0, -3.5, -3.0, -1.5, -1.0, -0.5, 0.0, 2.0, 2.5, 3.0, 3.5, 4.0, 4.5, 5.0, 5.5, 7.0, 7.5,\n",
    "                8.0, 8.5, 9.0, 10.0]\n",
    "\n",
    "scenario[\"input_parameters\"][\"x1\"] = x1\n",
    "\n",
    "with open(\"example_ordinal_1d_branin_scenario.json\", \"w\") as scenario_file:\n",
    "    json.dump(scenario, scenario_file, indent=4)"
   ]
  },
  {
   "cell_type": "markdown",
   "metadata": {},
   "source": [
    "To double check, print the json generated: "
   ]
  },
  {
   "cell_type": "code",
   "execution_count": 8,
   "metadata": {},
   "outputs": [
    {
     "name": "stdout",
     "output_type": "stream",
     "text": [
      "{\n",
      "    \"application_name\": \"1d_branin\",\n",
      "    \"optimization_objectives\": [\n",
      "        \"value\"\n",
      "    ],\n",
      "    \"design_of_experiment\": {\n",
      "        \"number_of_samples\": 2\n",
      "    },\n",
      "    \"optimization_iterations\": 8,\n",
      "    \"input_parameters\": {\n",
      "        \"x1\": {\n",
      "            \"parameter_type\": \"ordinal\",\n",
      "            \"values\": [\n",
      "                -5.0,\n",
      "                -4.5,\n",
      "                -4.0,\n",
      "                -3.5,\n",
      "                -3.0,\n",
      "                -1.5,\n",
      "                -1.0,\n",
      "                -0.5,\n",
      "                0.0,\n",
      "                2.0,\n",
      "                2.5,\n",
      "                3.0,\n",
      "                3.5,\n",
      "                4.0,\n",
      "                4.5,\n",
      "                5.0,\n",
      "                5.5,\n",
      "                7.0,\n",
      "                7.5,\n",
      "                8.0,\n",
      "                8.5,\n",
      "                9.0,\n",
      "                10.0\n",
      "            ]\n",
      "        }\n",
      "    }\n",
      "}\n"
     ]
    }
   ],
   "source": [
    "f = open(\"example_ordinal_1d_branin_scenario.json\", \"r\")\n",
    "text = f.read()\n",
    "print(text, flush=True)\n",
    "f.close()"
   ]
  },
  {
   "cell_type": "markdown",
   "metadata": {},
   "source": [
    "### Run HyperMapper"
   ]
  },
  {
   "cell_type": "code",
   "execution_count": 9,
   "metadata": {},
   "outputs": [
    {
     "name": "stdout",
     "output_type": "stream",
     "text": [
      "Design of experiment phase, number of new doe samples = 2 .......\n",
      "x1,value,Timestamp\n",
      "-3.0,93.8541933295621,14\n",
      "3.5,1.0771605292879318,27\n",
      "\n",
      "\n",
      "End of doe/resume phase, the number of evaluated configurations is: 2\n",
      "\n",
      "Starting optimization iteration 1\n",
      "x1,value,Timestamp\n",
      "-5.0,235.1022335430727,569\n",
      "\n",
      "Starting optimization iteration 2\n",
      "x1,value,Timestamp\n",
      "-4.5,190.30580997466993,1030\n",
      "\n",
      "Starting optimization iteration 3\n",
      "x1,value,Timestamp\n",
      "-4.0,151.54424858544886,1511\n",
      "\n",
      "Starting optimization iteration 4\n",
      "x1,value,Timestamp\n",
      "-1.5,51.6774984512692,1953\n",
      "\n",
      "Starting optimization iteration 5\n",
      "x1,value,Timestamp\n",
      "-3.5,119.33746909170875,2415\n",
      "\n",
      "Starting optimization iteration 6\n",
      "x1,value,Timestamp\n",
      "-1.0,44.844061747777616,2911\n",
      "\n",
      "Starting optimization iteration 7\n",
      "x1,value,Timestamp\n",
      "-0.5,39.157100711222434,3390\n",
      "\n",
      "Starting optimization iteration 8\n",
      "x1,value,Timestamp\n",
      "0.0,33.47773764227026,3829\n",
      "\n",
      "End of Bayesian Optimization\n",
      "Best point found:\n",
      "x1,value\n",
      "3.5,1.0771605292879318\n",
      "\n",
      "End of HyperMapper\n"
     ]
    }
   ],
   "source": [
    "optimizer.optimize(\"example_ordinal_1d_branin_scenario.json\", branin_function_1d)\n",
    "sys.stdout = stdout"
   ]
  },
  {
   "cell_type": "markdown",
   "metadata": {},
   "source": [
    "### Visualize Results\n",
    "We visualize the optimization process with a scatterplot of the points explored during optimization."
   ]
  },
  {
   "cell_type": "code",
   "execution_count": 10,
   "metadata": {},
   "outputs": [
    {
     "data": {
      "image/png": "[encoded data removed]",
      "text/plain": [
       "<Figure size 864x432 with 1 Axes>"
      ]
     },
     "metadata": {
      "needs_background": "light"
     },
     "output_type": "display_data"
    }
   ],
   "source": [
    "cmap = plt.get_cmap('winter')\n",
    "point_size_ordinal = matplotlib.rcParams['lines.markersize']**1.2\n",
    "\n",
    "\n",
    "branin_scatter_xs = x1[\"values\"]\n",
    "branin_scatter_ys = []\n",
    "for x in branin_scatter_xs:\n",
    "    y = branin_function_1d({'x1': x})\n",
    "    branin_scatter_ys.append(y)\n",
    "plt.scatter(branin_scatter_xs, branin_scatter_ys, s=point_size_ordinal, marker='o', color=\"black\", label=\"1D Ordinal Branin Function\")\n",
    "\n",
    "# Load the points evaluated by HyperMapper during optimization\n",
    "sampled_points = pd.read_csv(\"1d_branin_output_samples.csv\", usecols=['x1', 'value'])\n",
    "x_points = sampled_points['x1'].values\n",
    "y_points = sampled_points['value'].values\n",
    "\n",
    "# Split between DoE and BO\n",
    "doe_x = x_points[:number_of_RS]\n",
    "doe_y = y_points[:number_of_RS]\n",
    "bo_x = x_points[number_of_RS:]\n",
    "bo_y = y_points[number_of_RS:]\n",
    "bo_iterations = list(range(len(bo_x)))\n",
    "optimum = 3\n",
    "\n",
    "plt.scatter(doe_x, doe_y, s=point_size, marker='x', color=\"red\", label=\"Initial Random Sampling\")\n",
    "plt.scatter(optimum, value_at_optimum, s=point_size_optimum, marker='o', color=\"black\", label=\"Minimum\")\n",
    "plt.scatter(bo_x, bo_y, s=point_size, marker='x', c=bo_iterations, cmap=cmap, label=\"Bayesian Otimization\")\n",
    "\n",
    "plt.legend()\n",
    "plt.xlabel(\"x1\")\n",
    "plt.ylabel(\"value\")\n",
    "plt.show()"
   ]
  },
  {
   "cell_type": "markdown",
   "metadata": {},
   "source": [
    "Blue points show points explored during optimization, with brighter points denoting points explored in later iterations.\n",
    "\n",
    "The optimum in this case is at $x_1 = 3$"
   ]
  },
  {
   "cell_type": "markdown",
   "metadata": {},
   "source": [
    "### Example 3: Multi-dimension Function\n",
    "\n",
    "In this example, we are showing how to optimize the Branin function with two input parameters. We use the same branin function we defined in Example 1, but also optimize for $x_2 \\in [0, 15]$."
   ]
  },
  {
   "cell_type": "code",
   "execution_count": 11,
   "metadata": {},
   "outputs": [],
   "source": [
    "def branin_function(X):\n",
    "    # Here the dictionary contains both input values\n",
    "    x1 = X['x1']\n",
    "    x2 = X['x2']\n",
    "    \n",
    "    a = 1.0\n",
    "    b = 5.1 / (4.0 * math.pi * math.pi)\n",
    "    c = 5.0 / math.pi\n",
    "    r = 6.0\n",
    "    s = 10.0\n",
    "    t = 1.0 / (8.0 * math.pi)\n",
    "\n",
    "    value = a * (x2 - b * x1 * x1 + c * x1 - r) ** 2 + s * (1 - t) * math.cos(x1) + s\n",
    "\n",
    "    return value"
   ]
  },
  {
   "cell_type": "markdown",
   "metadata": {},
   "source": [
    "### Setup HyperMapper to Run on 2d Branin"
   ]
  },
  {
   "cell_type": "markdown",
   "metadata": {},
   "source": [
    "We create a json for the new configuration in python and dump it on a file."
   ]
  },
  {
   "cell_type": "code",
   "execution_count": 12,
   "metadata": {},
   "outputs": [],
   "source": [
    "scenario = {}\n",
    "scenario[\"application_name\"] = \"branin\"\n",
    "scenario[\"optimization_objectives\"] = [\"value\"]\n",
    "\n",
    "scenario[\"optimization_iterations\"] = 20\n",
    "\n",
    "# scenario[\"models\"] = {}\n",
    "# scenario[\"models\"][\"model\"] = \"gaussian_process\"\n",
    "\n",
    "scenario[\"input_parameters\"] = {}\n",
    "x1 = {}\n",
    "x1[\"parameter_type\"] = \"real\"\n",
    "x1[\"values\"] = [-5.0, 10.0]\n",
    "\n",
    "x2 = {}\n",
    "x2[\"parameter_type\"] = \"real\"\n",
    "x2[\"values\"] = [0, 15.0]\n",
    "\n",
    "scenario[\"input_parameters\"][\"x1\"] = x1\n",
    "scenario[\"input_parameters\"][\"x2\"] = x2\n",
    "\n",
    "with open(\"example_branin_scenario.json\", \"w\") as scenario_file:\n",
    "    json.dump(scenario, scenario_file, indent=4)"
   ]
  },
  {
   "cell_type": "markdown",
   "metadata": {},
   "source": [
    "To double check, print the json generated: "
   ]
  },
  {
   "cell_type": "code",
   "execution_count": 13,
   "metadata": {},
   "outputs": [
    {
     "name": "stdout",
     "output_type": "stream",
     "text": [
      "{\n",
      "    \"application_name\": \"branin\",\n",
      "    \"optimization_objectives\": [\n",
      "        \"value\"\n",
      "    ],\n",
      "    \"optimization_iterations\": 20,\n",
      "    \"input_parameters\": {\n",
      "        \"x1\": {\n",
      "            \"parameter_type\": \"real\",\n",
      "            \"values\": [\n",
      "                -5.0,\n",
      "                10.0\n",
      "            ]\n",
      "        },\n",
      "        \"x2\": {\n",
      "            \"parameter_type\": \"real\",\n",
      "            \"values\": [\n",
      "                0,\n",
      "                15.0\n",
      "            ]\n",
      "        }\n",
      "    }\n",
      "}\n"
     ]
    }
   ],
   "source": [
    "f = open(\"example_branin_scenario.json\", \"r\")\n",
    "text = f.read()\n",
    "print(text, flush=True)\n",
    "f.close()"
   ]
  },
  {
   "cell_type": "markdown",
   "metadata": {},
   "source": [
    "### Run HyperMapper"
   ]
  },
  {
   "cell_type": "code",
   "execution_count": 14,
   "metadata": {
    "scrolled": false
   },
   "outputs": [
    {
     "name": "stdout",
     "output_type": "stream",
     "text": [
      "Design of experiment phase, number of new doe samples = 10 .......\n",
      "x1,x2,value,Timestamp\n",
      "5.150919263407063,6.100620412460344,37.8042119499276,13\n",
      "8.268284312865305,1.4595725068028151,6.179886827579743,23\n",
      "3.2827082698104775,5.894174365123248,14.381271443039045,30\n",
      "6.353180550034002,14.747399397606666,205.75203010027292,41\n",
      "-2.7935216498375133,3.7905239986623354,59.70491406032053,47\n",
      "-2.2929525704077993,6.980925002962443,14.859568933004104,55\n",
      "0.45398095102936153,4.018570799557726,20.282063064370355,61\n",
      "2.284462603937766,14.909193049025259,144.63130178328157,66\n",
      "7.080220539062703,11.380882395831973,120.20924312135101,74\n",
      "1.8138983454728725,11.881872703015759,77.30654844183886,79\n",
      "\n",
      "\n",
      "End of doe/resume phase, the number of evaluated configurations is: 10\n",
      "\n",
      "Starting optimization iteration 1\n",
      "x1,x2,value,Timestamp\n",
      "7.510538034429651,1.5520034543680061,13.2810037277814,2093\n",
      "\n",
      "Starting optimization iteration 2\n",
      "x1,x2,value,Timestamp\n",
      "5.516449293401367,6.9907912269295,51.01210012865795,2178\n",
      "\n",
      "Starting optimization iteration 3\n",
      "x1,x2,value,Timestamp\n",
      "7.326968560489924,1.4132180518605204,14.848810755296252,3810\n",
      "\n",
      "Starting optimization iteration 4\n",
      "x1,x2,value,Timestamp\n",
      "7.236548366414674,1.0993445979246619,15.58111566622988,4944\n",
      "\n",
      "Starting optimization iteration 5\n",
      "x1,x2,value,Timestamp\n",
      "-3.0312413994036413,13.693336349855626,3.2852944118413205,5014\n",
      "\n",
      "Starting optimization iteration 6\n",
      "x1,x2,value,Timestamp\n",
      "7.195510064692231,0.47639080111867754,16.453481228839607,6641\n",
      "\n",
      "Starting optimization iteration 7\n",
      "x1,x2,value,Timestamp\n",
      "9.545043879176093,14.204271848143854,135.63010986477727,7894\n",
      "\n",
      "Starting optimization iteration 8\n",
      "x1,x2,value,Timestamp\n",
      "6.8774475114438935,1.4596865416431706,18.043057036897267,9307\n",
      "\n",
      "Starting optimization iteration 9\n",
      "x1,x2,value,Timestamp\n",
      "8.440748390102257,13.739942762799988,147.96212286869687,10574\n",
      "\n",
      "Starting optimization iteration 10\n",
      "x1,x2,value,Timestamp\n",
      "8.337977688240834,1.849183596304282,5.551082835494471,11761\n",
      "\n",
      "Starting optimization iteration 11\n",
      "x1,x2,value,Timestamp\n",
      "8.378607275776497,2.5386672458389627,5.838022327082427,12975\n",
      "\n",
      "Starting optimization iteration 12\n",
      "x1,x2,value,Timestamp\n",
      "8.400570049458222,2.3504086671479887,5.373671522542567,14404\n",
      "\n",
      "Starting optimization iteration 13\n",
      "x1,x2,value,Timestamp\n",
      "8.423597434752793,3.3453595047086293,7.33494985198682,15586\n",
      "\n",
      "Starting optimization iteration 14\n",
      "x1,x2,value,Timestamp\n",
      "8.428712514441923,2.699660908565262,5.657600151146497,16710\n",
      "\n",
      "Starting optimization iteration 15\n",
      "x1,x2,value,Timestamp\n",
      "7.139538141202383,2.32012126842273,17.497158215240717,17981\n",
      "\n",
      "Starting optimization iteration 16\n",
      "x1,x2,value,Timestamp\n",
      "9.30039586069965,1.8765114802083809,0.7176561656048683,19220\n",
      "\n",
      "Starting optimization iteration 17\n",
      "x1,x2,value,Timestamp\n",
      "9.369514764017689,1.7273683731413771,0.9045228158889813,20615\n",
      "\n",
      "Starting optimization iteration 18\n",
      "x1,x2,value,Timestamp\n",
      "9.306940237462758,1.7847240983324224,0.8157354571315114,21837\n",
      "\n",
      "Starting optimization iteration 19\n",
      "x1,x2,value,Timestamp\n",
      "10.0,1.830024650539193,3.3189100331703942,23030\n",
      "\n",
      "Starting optimization iteration 20\n",
      "x1,x2,value,Timestamp\n",
      "7.090711668975594,2.715729419344176,18.905210151826196,24248\n",
      "\n",
      "End of Bayesian Optimization\n",
      "Best point found:\n",
      "x1,x2,value\n",
      "9.30039586069965,1.8765114802083809,0.7176561656048683\n",
      "\n",
      "End of HyperMapper\n"
     ]
    }
   ],
   "source": [
    "optimizer.optimize(\"example_branin_scenario.json\", branin_function)\n",
    "sys.stdout = stdout"
   ]
  },
  {
   "cell_type": "markdown",
   "metadata": {},
   "source": [
    "### Visualize Results\n",
    "We visualize the optimization process with a scatterplot of the points explored during optimization."
   ]
  },
  {
   "cell_type": "code",
   "execution_count": 15,
   "metadata": {},
   "outputs": [
    {
     "data": {
      "image/png": "[encoded data removed]",
      "text/plain": [
       "<Figure size 864x432 with 2 Axes>"
      ]
     },
     "metadata": {
      "needs_background": "light"
     },
     "output_type": "display_data"
    }
   ],
   "source": [
    "from matplotlib.lines import Line2D\n",
    "\n",
    "# Plot the value of the Branin function over a grid of the space\n",
    "heatmap_samples = 100\n",
    "x1_heatmap_values = np.linspace(-5, 10, 100)\n",
    "x2_heatmap_values = np.linspace(0, 15, 100)\n",
    "branin_values = np.zeros((heatmap_samples, heatmap_samples), dtype=float)\n",
    "for i, x1 in enumerate(x1_heatmap_values):\n",
    "    for j, x2 in enumerate(x2_heatmap_values):\n",
    "        branin_values[j,i] = branin_function({'x1': x1, 'x2': x2})\n",
    "\n",
    "heat_cmap = plt.get_cmap(\"gist_heat_r\")\n",
    "cf = plt.pcolormesh(x1_heatmap_values, x2_heatmap_values, branin_values, cmap=heat_cmap, alpha=0.5)\n",
    "plt.colorbar(cf)\n",
    "\n",
    "# Load the points evaluated by HyperMapper during optimization\n",
    "sampled_points = pd.read_csv(\"branin_output_samples.csv\", usecols=['x1', 'x2'])\n",
    "x1_points = sampled_points['x1'].values\n",
    "x2_points = sampled_points['x2'].values\n",
    "\n",
    "# Split between DoE and BO\n",
    "doe_x1 = x1_points[:10]\n",
    "doe_x2 = x2_points[:10]\n",
    "bo_x1 = x1_points[10:]\n",
    "bo_x2 = x2_points[10:]\n",
    "bo_iterations = list(range(len(bo_x1)))\n",
    "\n",
    "optima_x1 = [-3.141, 3.141, 9.425]\n",
    "optima_x2 = [12.275, 2.275, 2.475]\n",
    "plt.scatter(optima_x1, optima_x2, s=point_size, marker='x', color=\"black\", label=\"Minima\")\n",
    "plt.scatter(doe_x1, doe_x2, s=point_size**0.8, marker='x', color=\"red\", label=\"Initial Random Sampling\")\n",
    "plt.scatter(bo_x1, bo_x2, s=point_size**0.8, marker='x', c=bo_iterations, cmap=cmap, label=\"Bayesian Otimization\")\n",
    "\n",
    "plt.xlim(min(x1_heatmap_values), max(x1_heatmap_values))\n",
    "plt.ylim(min(x2_heatmap_values), max(x2_heatmap_values))\n",
    "plt.xlabel('x1')\n",
    "plt.ylabel('x2')\n",
    "\n",
    "legend_elements = [\n",
    "    Line2D([0], [0], marker='x', color='red', linestyle='None', label=\"Initial Random Sampling\"),\n",
    "    Line2D([0], [0], marker='x', color='blue', linestyle='None', label=\"Bayesian Optimization\"),\n",
    "    Line2D([0], [0], marker='x', color='black', linestyle='None', label='Minima'),\n",
    "]\n",
    "plt.legend(handles=legend_elements, bbox_to_anchor=(1.75, 1), fancybox=True, shadow=True, ncol=1)\n",
    "\n",
    "plt.show()"
   ]
  },
  {
   "cell_type": "markdown",
   "metadata": {},
   "source": [
    "Blue points show points explored during optimization, with brighter points denoting points explored in later iterations.\n",
    "\n",
    "The Branin function has three optima at $(-\\pi, 12.275)$, $(\\pi, 2.275)$, and $(9.42478, 2.475)$."
   ]
  },
  {
   "cell_type": "markdown",
   "metadata": {},
   "source": [
    "# Advanced Topics"
   ]
  },
  {
   "cell_type": "markdown",
   "metadata": {},
   "source": [
    "### Example 4: Multi-dimension and Multi-objective Function\n",
    "\n",
    "In this example, we are showing how to use HyperMapper to optimize functions with multiple objectives. HyperMapper seamlessly supports any number of objectives, we only have to define the scenario file and our optimization function accordingly.\n",
    "\n",
    "In this example, we will use the [DTLZ1 function](https://www.cs.bham.ac.uk/~jdk/parego/ParEGO-TR3.pdf):\n",
    "- 6 real parameters defined in $[0, 1]$\n",
    "- 2 objectives"
   ]
  },
  {
   "cell_type": "code",
   "execution_count": 16,
   "metadata": {},
   "outputs": [],
   "source": [
    "def dtlz1_function(X):\n",
    "    x1 = X['x1']\n",
    "    x2 = X['x2']\n",
    "    x3 = X['x3']\n",
    "    x4 = X['x4']\n",
    "    x5 = X['x5']\n",
    "    x6 = X['x6']\n",
    "    \n",
    "    g_sum = (x2 - 0.5)**2 + (x3 - 0.5)**2 + (x4 - 0.5)**2 + (x5 - 0.5)**2 + (x6 - 0.5)**2\n",
    "    g_cos = math.cos(2*math.pi*(x2 - 0.5)) + math.cos(2*math.pi*(x3 - 0.5)) + math.cos(2*math.pi*(x4 - 0.5))\\\n",
    "          + math.cos(2*math.pi*(x5 - 0.5)) + math.cos(2*math.pi*(x6 - 0.5))\n",
    "    g = 100*(5 + g_sum - g_cos)\n",
    "    f1_value = 0.5*x1*(1 + g)\n",
    "    f2_value = 0.5*(1 - x1)*(1 + g)\n",
    "\n",
    "    # Since we have multiple objectives, we return a dictionary\n",
    "    output_metrics = {}\n",
    "    output_metrics['f1_value'] = f1_value\n",
    "    output_metrics['f2_value'] = f2_value\n",
    "\n",
    "    return output_metrics"
   ]
  },
  {
   "cell_type": "markdown",
   "metadata": {},
   "source": [
    "This is not a function we can easily visualize because of the multiple input/output dimensions. "
   ]
  },
  {
   "cell_type": "markdown",
   "metadata": {},
   "source": [
    "### Setup HyperMapper to Run on DTLZ1"
   ]
  },
  {
   "cell_type": "markdown",
   "metadata": {},
   "source": [
    "We create the json in python and then dump it on a file: "
   ]
  },
  {
   "cell_type": "code",
   "execution_count": 17,
   "metadata": {},
   "outputs": [],
   "source": [
    "scenario = {}\n",
    "scenario[\"application_name\"] = \"dtlz1\"\n",
    "scenario[\"optimization_objectives\"] = [\"f1_value\", \"f2_value\"]\n",
    "\n",
    "# scenario[\"models\"] = {}\n",
    "# scenario[\"models\"][\"model\"] = \"gaussian_process\"\n",
    "\n",
    "scenario[\"optimization_iterations\"] = 10\n",
    "\n",
    "\n",
    "scenario[\"input_parameters\"] = {}\n",
    "x1 = {}\n",
    "x1[\"parameter_type\"] = \"real\"\n",
    "x1[\"values\"] = [0, 1]\n",
    "scenario[\"input_parameters\"][\"x1\"] = x1\n",
    "x2 = {}\n",
    "x2[\"parameter_type\"] = \"real\"\n",
    "x2[\"values\"] = [0, 1]\n",
    "scenario[\"input_parameters\"][\"x2\"] = x2\n",
    "x3 = {}\n",
    "x3[\"parameter_type\"] = \"real\"\n",
    "x3[\"values\"] = [0, 1]\n",
    "scenario[\"input_parameters\"][\"x3\"] = x3\n",
    "x4 = {}\n",
    "x4[\"parameter_type\"] = \"real\"\n",
    "x4[\"values\"] = [0, 1]\n",
    "scenario[\"input_parameters\"][\"x4\"] = x4\n",
    "x5 = {}\n",
    "x5[\"parameter_type\"] = \"real\"\n",
    "x5[\"values\"] = [0, 1]\n",
    "scenario[\"input_parameters\"][\"x5\"] = x5\n",
    "x6 = {}\n",
    "x6[\"parameter_type\"] = \"real\"\n",
    "x6[\"values\"] = [0, 1]\n",
    "scenario[\"input_parameters\"][\"x6\"] = x6\n",
    "\n",
    "with open(\"example_dtlz1_scenario.json\", \"w\") as scenario_file:\n",
    "    json.dump(scenario, scenario_file, indent=4)\n"
   ]
  },
  {
   "cell_type": "markdown",
   "metadata": {},
   "source": [
    "To double check, print the json generated:"
   ]
  },
  {
   "cell_type": "code",
   "execution_count": 18,
   "metadata": {
    "scrolled": false
   },
   "outputs": [
    {
     "name": "stdout",
     "output_type": "stream",
     "text": [
      "{\n",
      "    \"application_name\": \"dtlz1\",\n",
      "    \"optimization_objectives\": [\n",
      "        \"f1_value\",\n",
      "        \"f2_value\"\n",
      "    ],\n",
      "    \"models\": {\n",
      "        \"model\": \"gaussian_process\"\n",
      "    },\n",
      "    \"optimization_iterations\": 10,\n",
      "    \"input_parameters\": {\n",
      "        \"x1\": {\n",
      "            \"parameter_type\": \"real\",\n",
      "            \"values\": [\n",
      "                0,\n",
      "                1\n",
      "            ]\n",
      "        },\n",
      "        \"x2\": {\n",
      "            \"parameter_type\": \"real\",\n",
      "            \"values\": [\n",
      "                0,\n",
      "                1\n",
      "            ]\n",
      "        },\n",
      "        \"x3\": {\n",
      "            \"parameter_type\": \"real\",\n",
      "            \"values\": [\n",
      "                0,\n",
      "                1\n",
      "            ]\n",
      "        },\n",
      "        \"x4\": {\n",
      "            \"parameter_type\": \"real\",\n",
      "            \"values\": [\n",
      "                0,\n",
      "                1\n",
      "            ]\n",
      "        },\n",
      "        \"x5\": {\n",
      "            \"parameter_type\": \"real\",\n",
      "            \"values\": [\n",
      "                0,\n",
      "                1\n",
      "            ]\n",
      "        },\n",
      "        \"x6\": {\n",
      "            \"parameter_type\": \"real\",\n",
      "            \"values\": [\n",
      "                0,\n",
      "                1\n",
      "            ]\n",
      "        }\n",
      "    }\n",
      "}\n"
     ]
    }
   ],
   "source": [
    "f = open(\"example_dtlz1_scenario.json\", \"r\")\n",
    "text = f.read()\n",
    "print(text, flush=True)\n",
    "f.close()"
   ]
  },
  {
   "cell_type": "markdown",
   "metadata": {},
   "source": [
    "### Run HyperMapper"
   ]
  },
  {
   "cell_type": "code",
   "execution_count": 19,
   "metadata": {},
   "outputs": [
    {
     "name": "stdout",
     "output_type": "stream",
     "text": [
      "Design of experiment phase, number of new doe samples = 10 .......\n",
      "x1,x2,x3,x4,x5,x6,f1_value,f2_value,Timestamp\n",
      "0.45748594044459756,0.11708531761406656,0.9649719029140614,0.3238875589665459,0.24565285778334336,0.59027949390694,135.64720223040257,160.85852666385995,3\n",
      "0.15444205535823882,0.6614189513977252,0.885891186040152,0.6832311094938773,0.030394364839949433,0.7601691951189058,49.194671907824656,269.33690806703567,3\n",
      "0.473346248497711,0.8837880845402044,0.8201829794206902,0.9112360026478898,0.48221485284418514,0.8699455826796831,172.2263990927373,191.62226272584294,3\n",
      "0.01949523998369456,0.723608563573273,0.9128491610119905,0.8080339453030314,0.823332665189872,0.7689091102965804,6.931220601147929,348.60277677180403,3\n",
      "0.02229603451180384,0.4764819903127311,0.3010785678255325,0.9972331947058509,0.8640007981265554,0.013944243717600044,7.819393272269384,342.88840941478173,3\n",
      "0.5194199464699286,0.9515791746346621,0.5576718518025297,0.6581781925034673,0.9490540208278958,0.534529636304636,127.0323401701184,117.5334317711654,3\n",
      "0.5758588473419538,0.24236762798405487,0.21483783541231638,0.18918333267149215,0.812635644812558,0.25566886222787266,184.26224054254382,135.71589540702175,3\n",
      "0.9249532856141577,0.22169222852890405,0.3745753750318257,0.12273121527400727,0.21698322758144914,0.3013871987050129,251.70561715760468,20.422306568267835,3\n",
      "0.6849673544651428,0.3314653970219344,0.860482907903115,0.504730112600147,0.012039551800237419,0.27911239208086114,185.65731334658403,85.38817829083081,3\n",
      "0.6258408932831054,0.9640938125776739,0.19253879031049395,0.33124482237529657,0.05449749826378807,0.03209093182102258,266.8211440463265,159.5190758242649,3\n",
      "\n",
      "\n",
      "End of doe/resume phase, the number of evaluated configurations is: 10\n",
      "\n",
      "Starting optimization iteration 1\n",
      "x1,x2,x3,x4,x5,x6,f1_value,f2_value,Timestamp\n",
      "0.0010802977378352014,0.05014564992614515,0.5981298865128777,0.6169455957996973,1,0.9978213586248409,0.384928546737726,355.93216187787124,1473\n",
      "\n",
      "Starting optimization iteration 2\n",
      "x1,x2,x3,x4,x5,x6,f1_value,f2_value,Timestamp\n",
      "1,0.000963679627536676,1,0.4286830723978885,1,1,455.64160077096824,0.0,2709\n",
      "\n",
      "Starting optimization iteration 3\n",
      "x1,x2,x3,x4,x5,x6,f1_value,f2_value,Timestamp\n",
      "0.5943317571243701,0.5144206157887665,0.24742262369417664,0.7512221128715768,0.9665111784582614,0.6180588766349165,137.80596136955506,94.0611056643839,2926\n",
      "\n",
      "Starting optimization iteration 4\n",
      "x1,x2,x3,x4,x5,x6,f1_value,f2_value,Timestamp\n",
      "1,0.0025111854567280577,1,0.2641635818447234,0.36605014742969544,0.31580940899449417,322.8963105068415,0.0,4053\n",
      "\n",
      "Starting optimization iteration 5\n",
      "x1,x2,x3,x4,x5,x6,f1_value,f2_value,Timestamp\n",
      "1,0.967435386753649,0.7295288753064849,1,1,0.09895131877937141,480.2881323344869,0.0,5183\n",
      "\n",
      "Starting optimization iteration 6\n",
      "x1,x2,x3,x4,x5,x6,f1_value,f2_value,Timestamp\n",
      "1,0.497258448752617,0.6398779224989622,1,1,0.34305883462993914,268.21916289746235,0.0,6292\n",
      "\n",
      "Starting optimization iteration 7\n",
      "x1,x2,x3,x4,x5,x6,f1_value,f2_value,Timestamp\n",
      "0.5751893403806246,0.789823247567893,0.21857578407432207,0.7945339980385621,0.3009895616408987,0.2185975613923737,171.97589769428615,127.01416630878312,6487\n",
      "\n",
      "Starting optimization iteration 8\n",
      "x1,x2,x3,x4,x5,x6,f1_value,f2_value,Timestamp\n",
      "0.7866486983585165,0.3258284181835604,1,1,1,0.9976533642139281,376.77577011766164,102.1874200635105,7898\n",
      "\n",
      "Starting optimization iteration 9\n",
      "x1,x2,x3,x4,x5,x6,f1_value,f2_value,Timestamp\n",
      "0.73983783291692,0.9117141556095438,0.09947783568428943,0.5447219468612758,0.6354434001904754,0.840815235513176,224.08071344668855,78.79743562446293,8222\n",
      "\n",
      "Starting optimization iteration 10\n",
      "x1,x2,x3,x4,x5,x6,f1_value,f2_value,Timestamp\n",
      "1,1,0.5806791770311711,0.3172960055782357,1,0.08377991739702532,365.15796649296294,0.0,9571\n",
      "\n",
      "End of Bayesian Optimization\n",
      "End of HyperMapper\n"
     ]
    }
   ],
   "source": [
    "optimizer.optimize(\"example_dtlz1_scenario.json\", dtlz1_function)\n",
    "sys.stdout = stdout"
   ]
  },
  {
   "cell_type": "markdown",
   "metadata": {},
   "source": [
    "### Visualize Results\n",
    "\n",
    "This script computes the Pareto front from the output of HyperMapper: "
   ]
  },
  {
   "cell_type": "code",
   "execution_count": 20,
   "metadata": {},
   "outputs": [
    {
     "data": {
      "text/plain": [
       "['warning in stationary: failed to import cython module: falling back to numpy',\n",
       " 'warning in coregionalize: failed to import cython module: falling back to numpy',\n",
       " 'warning in choleskies: failed to import cython module: falling back to numpy',\n",
       " '######## compute_pareto.py #####################',\n",
       " '### Parameters file is example_dtlz1_scenario.json',\n",
       " '### The input data file is ./dtlz1_output_samples.csv',\n",
       " '### The output Pareto file is ./dtlz1_output_pareto.csv',\n",
       " '################################################',\n",
       " 'Computing the Pareto...',\n",
       " 'Time to read from file ./dtlz1_output_samples.csv and create the data array is: 0.000274 sec',\n",
       " 'Total time of computation is (read and Pareto computation): 0.010018 seconds',\n",
       " 'The total size of the Pareto (RS + AL) is: 10',\n",
       " 'End of the compute_pareto.py script!',\n",
       " '']"
      ]
     },
     "execution_count": 20,
     "metadata": {},
     "output_type": "execute_result"
    }
   ],
   "source": [
    "!!hm-compute-pareto \"example_dtlz1_scenario.json\""
   ]
  },
  {
   "cell_type": "markdown",
   "metadata": {},
   "source": [
    "This scripts plot the Pareto front:"
   ]
  },
  {
   "cell_type": "code",
   "execution_count": 21,
   "metadata": {},
   "outputs": [
    {
     "data": {
      "text/plain": [
       "['warning in stationary: failed to import cython module: falling back to numpy',\n",
       " 'warning in coregionalize: failed to import cython module: falling back to numpy',\n",
       " 'warning in choleskies: failed to import cython module: falling back to numpy',\n",
       " '######### plot_pareto.py ##########################',\n",
       " '### Parameters file is example_dtlz1_scenario.json',\n",
       " '### The Pareto and DSE data files are: ./dtlz1_output_pareto.csv ./dtlz1_output_samples.csv ',\n",
       " '### The first output pdf image is ./dtlz1_output_pareto.pdf',\n",
       " '### The second output pdf image is ./all_dtlz1_output_pareto.pdf',\n",
       " '################################################',\n",
       " 'Loading data from ./dtlz1_output_pareto.csv ...',\n",
       " 'Time to read from file ./dtlz1_output_pareto.csv and create the data array is: 0.000178 sec',\n",
       " \"Parameters are ['x1', 'x2', 'x3', 'x4', 'x5', 'x6', 'f1_value', 'f2_value', 'Timestamp']\",\n",
       " '',\n",
       " 'Size of the data file ./dtlz1_output_pareto.csv is 10',\n",
       " 'Loading data from ./dtlz1_output_samples.csv ...',\n",
       " 'Time to read from file ./dtlz1_output_samples.csv and create the data array is: 0.000259 sec',\n",
       " \"Parameters are ['x1', 'x2', 'x3', 'x4', 'x5', 'x6', 'f1_value', 'f2_value', 'Timestamp']\",\n",
       " '',\n",
       " 'Size of the data file ./dtlz1_output_samples.csv is 20',\n",
       " 'End of the plot_dse script!']"
      ]
     },
     "execution_count": 21,
     "metadata": {},
     "output_type": "execute_result"
    }
   ],
   "source": [
    "!!hm-plot-pareto \"example_dtlz1_scenario.json\" \"dtlz1_output_pareto.pdf\""
   ]
  },
  {
   "cell_type": "code",
   "execution_count": 22,
   "metadata": {},
   "outputs": [
    {
     "data": {
      "text/html": [
       "\n",
       "        <iframe\n",
       "            width=\"1000\"\n",
       "            height=\"600\"\n",
       "            src=\"dtlz1_output_pareto.pdf\"\n",
       "            frameborder=\"0\"\n",
       "            allowfullscreen\n",
       "        ></iframe>\n",
       "        "
      ],
      "text/plain": [
       "<IPython.lib.display.IFrame at 0x7f2381608d00>"
      ]
     },
     "execution_count": 22,
     "metadata": {},
     "output_type": "execute_result"
    }
   ],
   "source": [
    "from IPython.display import IFrame\n",
    "IFrame(\"dtlz1_output_pareto.pdf\", width=1000, height=600)"
   ]
  },
  {
   "cell_type": "markdown",
   "metadata": {},
   "source": [
    "### Example 5: Constrained Function\n",
    "\n",
    "In this example, we are showing how to optimize the constrained Chakong-Haimes function:\n",
    "- 2 real parameters defined in $[-20, 20]$\n",
    "- 2 output dimensions\n",
    "\n",
    "The Chakong-Haimes function has two feasibility constraints:\n",
    "\n",
    "$x_1^2 + x_2^2 \\leq 225$\n",
    "\n",
    "$x_1 - 3x_2 + 10 \\leq 0$"
   ]
  },
  {
   "cell_type": "code",
   "execution_count": 23,
   "metadata": {},
   "outputs": [],
   "source": [
    "def chakong_haimes(X):\n",
    "    x1 = X['x1']\n",
    "    x2 = X['x2']\n",
    "    f1_value = 2 + (x1 - 2)*(x1 - 2) + (x2 - 1)*(x2 - 1)\n",
    "    f2_value = 9*x1 - (x2 - 1)*(x2 - 1)\n",
    "\n",
    "    # check constraints\n",
    "    c1 = x1*x1 + x2*x2 <= 225\n",
    "    c2 = x1 - 3*x2 + 10 <= 0\n",
    "    valid = c1 and c2\n",
    "\n",
    "    output = {}\n",
    "    output['f1_value'] = f1_value\n",
    "    output['f2_value'] = f2_value\n",
    "    output['Valid'] = valid\n",
    "\n",
    "    return output"
   ]
  },
  {
   "cell_type": "markdown",
   "metadata": {},
   "source": [
    "### Setup HyperMapper to Run on Chakong-Haimes"
   ]
  },
  {
   "cell_type": "markdown",
   "metadata": {},
   "source": [
    "We create the json in python and then dump it on a file: "
   ]
  },
  {
   "cell_type": "code",
   "execution_count": 24,
   "metadata": {},
   "outputs": [],
   "source": [
    "scenario = {}\n",
    "scenario[\"application_name\"] = \"chakong_haimes\"\n",
    "scenario[\"optimization_objectives\"] = [\"f1_value\", \"f2_value\"]\n",
    "\n",
    "number_of_RS = 20\n",
    "scenario[\"design_of_experiment\"] = {}\n",
    "scenario[\"design_of_experiment\"][\"number_of_samples\"] = number_of_RS\n",
    "scenario[\"optimization_iterations\"] = 20\n",
    "\n",
    "scenario[\"models\"] = {}\n",
    "scenario[\"models\"][\"model\"] = \"gaussian_process\"\n",
    "\n",
    "scenario[\"feasible_output\"] = {}\n",
    "scenario[\"feasible_output\"][\"enable_feasible_predictor\"] = True\n",
    "\n",
    "\n",
    "scenario[\"input_parameters\"] = {}\n",
    "x1 = {}\n",
    "x1[\"parameter_type\"] = \"real\"\n",
    "x1[\"values\"] = [-20, 20]\n",
    "scenario[\"input_parameters\"][\"x1\"] = x1\n",
    "x2 = {}\n",
    "x2[\"parameter_type\"] = \"real\"\n",
    "x2[\"values\"] = [-20, 20]\n",
    "scenario[\"input_parameters\"][\"x2\"] = x2\n",
    "\n",
    "with open(\"example_chakong_haimes_scenario.json\", \"w\") as scenario_file:\n",
    "    json.dump(scenario, scenario_file, indent=4)"
   ]
  },
  {
   "cell_type": "markdown",
   "metadata": {},
   "source": [
    "To double check, print the json generated:"
   ]
  },
  {
   "cell_type": "code",
   "execution_count": 25,
   "metadata": {},
   "outputs": [
    {
     "name": "stdout",
     "output_type": "stream",
     "text": [
      "{\n",
      "    \"application_name\": \"chakong_haimes\",\n",
      "    \"optimization_objectives\": [\n",
      "        \"f1_value\",\n",
      "        \"f2_value\"\n",
      "    ],\n",
      "    \"design_of_experiment\": {\n",
      "        \"number_of_samples\": 20\n",
      "    },\n",
      "    \"optimization_iterations\": 20,\n",
      "    \"models\": {\n",
      "        \"model\": \"gaussian_process\"\n",
      "    },\n",
      "    \"feasible_output\": {\n",
      "        \"enable_feasible_predictor\": true\n",
      "    },\n",
      "    \"input_parameters\": {\n",
      "        \"x1\": {\n",
      "            \"parameter_type\": \"real\",\n",
      "            \"values\": [\n",
      "                -20,\n",
      "                20\n",
      "            ]\n",
      "        },\n",
      "        \"x2\": {\n",
      "            \"parameter_type\": \"real\",\n",
      "            \"values\": [\n",
      "                -20,\n",
      "                20\n",
      "            ]\n",
      "        }\n",
      "    }\n",
      "}\n"
     ]
    }
   ],
   "source": [
    "f = open(\"example_chakong_haimes_scenario.json\", \"r\")\n",
    "text = f.read()\n",
    "print(text, flush=True)\n",
    "f.close()"
   ]
  },
  {
   "cell_type": "markdown",
   "metadata": {},
   "source": [
    "### Run HyperMapper"
   ]
  },
  {
   "cell_type": "code",
   "execution_count": 26,
   "metadata": {
    "scrolled": false
   },
   "outputs": [
    {
     "name": "stdout",
     "output_type": "stream",
     "text": [
      "Design of experiment phase, number of new doe samples = 20 .......\n",
      "x1,x2,f1_value,f2_value,Valid,Timestamp\n",
      "3.7419481120943523,-0.2732922682401835,6.65565642558931,32.05625980848894,false,7\n",
      "-15.4689533394369,-2.5947190006420904,320.0863354690009,-152.14258474850936,false,7\n",
      "2.050667612528734,-15.923447007800403,288.40562583278785,-267.94705011306985,false,7\n",
      "7.959316611842667,4.0476181173958565,46.801430669663425,62.345873317104534,false,7\n",
      "-1.1524723026747665,14.743430497915014,200.81996347015206,-199.25413257509342,true,7\n",
      "-5.1165022730728005,18.831474450341695,370.606085675839,-364.01000153084385,false,7\n",
      "-12.067803551099328,-1.4113767375826995,205.71783452287784,-114.42496973044894,false,7\n",
      "-12.276661793998048,6.221424298641249,233.08634368664482,-137.7532278524237,true,7\n",
      "6.325390725406255,11.796126985179122,137.26536280754328,-59.62784135145654,true,7\n",
      "-0.36601811924103345,5.168575173987769,24.975060721764034,-20.671182054356457,true,7\n",
      "-7.653509956931586,-13.429199054988866,303.3920398570689,-277.0833749808759,false,7\n",
      "8.959349903599868,9.490177968875422,122.51567302391308,8.55102718922123,true,7\n",
      "-19.787551568477795,-19.87130091848039,912.3086053788396,-613.6991661460605,false,7\n",
      "14.235952833385312,16.864703044879853,403.4073444430501,-123.56522720175226,false,7\n",
      "16.796366927096273,-18.6349199329975,606.462555016491,-234.36277843135613,false,7\n",
      "6.306105811132209,-15.098808131936782,279.7141705255804,-202.41667096872396,false,7\n",
      "6.11802075221587,14.508141527993452,201.42798245598183,-127.40770077035845,false,7\n",
      "15.357745410125837,-13.667153744161954,395.55476139662187,-76.9056902637515,false,7\n",
      "5.961568870583726,-8.597470311057183,109.80546428800209,-38.457316536370534,false,7\n",
      "-19.244528642778313,6.765174481818427,486.5672340596385,-206.43799459081518,false,7\n",
      "\n",
      "\n",
      "End of doe/resume phase, the number of evaluated configurations is: 20\n",
      "\n",
      "Starting optimization iteration 1\n",
      "x1,x2,f1_value,f2_value,Valid,Timestamp\n",
      "1.6534735403099496,1.1024905322938103,2.1305848964751886,14.870757553579677,false,1250\n",
      "\n",
      "Starting optimization iteration 2\n",
      "x1,x2,f1_value,f2_value,Valid,Timestamp\n",
      "-9.812797635016604,-15.537454579716712,415.02959194204715,-361.8025826913427,false,2712\n",
      "\n",
      "Starting optimization iteration 3\n",
      "x1,x2,f1_value,f2_value,Valid,Timestamp\n",
      "-16.152488362685702,-15.156054543948764,592.5309321844873,-406.39049369121875,false,4000\n",
      "\n",
      "Starting optimization iteration 4\n",
      "x1,x2,f1_value,f2_value,Valid,Timestamp\n",
      "8.61197851224976,-15.130662543782046,305.91653394782554,-182.69046749112516,false,5128\n",
      "\n",
      "Starting optimization iteration 5\n",
      "x1,x2,f1_value,f2_value,Valid,Timestamp\n",
      "11.86039907170921,-12.098048374349109,270.7863410701532,-64.81527957140644,false,6291\n",
      "\n",
      "Starting optimization iteration 6\n",
      "x1,x2,f1_value,f2_value,Valid,Timestamp\n",
      "-17.372940497328223,2.1496042387884238,378.6324134188602,-157.6780543817943,false,6660\n",
      "\n",
      "Starting optimization iteration 7\n",
      "x1,x2,f1_value,f2_value,Valid,Timestamp\n",
      "13.290871977393984,-16.419058512542488,432.90738947327964,-183.8057516668331,false,7763\n",
      "\n",
      "Starting optimization iteration 8\n",
      "x1,x2,f1_value,f2_value,Valid,Timestamp\n",
      "3.6601702930108644,-18.123487176131135,370.4639271774478,-332.7662291385542,false,8758\n",
      "\n",
      "Starting optimization iteration 9\n",
      "x1,x2,f1_value,f2_value,Valid,Timestamp\n",
      "16.038398408505444,-18.69049986798195,586.7924149269253,-243.37019937444813,false,10023\n",
      "\n",
      "Starting optimization iteration 10\n",
      "x1,x2,f1_value,f2_value,Valid,Timestamp\n",
      "-2.527354232006875,1.2280314051587808,22.54893466380925,-22.79818640980056,false,10341\n",
      "\n",
      "Starting optimization iteration 11\n",
      "x1,x2,f1_value,f2_value,Valid,Timestamp\n",
      "8.540018367464796,-10.429205271945515,175.39857339504402,-53.76656784108397,false,11546\n",
      "\n",
      "Starting optimization iteration 12\n",
      "x1,x2,f1_value,f2_value,Valid,Timestamp\n",
      "2.960122936509194,-15.974680877821156,291.0616269570783,-261.4986844752845,false,12626\n",
      "\n",
      "Starting optimization iteration 13\n",
      "x1,x2,f1_value,f2_value,Valid,Timestamp\n",
      "10.51601072285749,-19.1004802780864,478.5517460415641,-309.3852109040229,false,13646\n",
      "\n",
      "Starting optimization iteration 14\n",
      "x1,x2,f1_value,f2_value,Valid,Timestamp\n",
      "-4.146521738571863,-18.827123960772685,432.8945740385828,-430.4335402029931,false,14725\n",
      "\n",
      "Starting optimization iteration 15\n",
      "x1,x2,f1_value,f2_value,Valid,Timestamp\n",
      "20,-16.557287134506673,634.2583315235136,-128.25833152351356,false,15687\n",
      "\n",
      "Starting optimization iteration 16\n",
      "x1,x2,f1_value,f2_value,Valid,Timestamp\n",
      "2.1185334490478915,1.0881533948843014,2.021821199572817,19.059030020401398,false,16758\n",
      "\n",
      "Starting optimization iteration 17\n",
      "x1,x2,f1_value,f2_value,Valid,Timestamp\n",
      "7.8197565078644296,-16.50306028945974,342.2266853072929,-235.97931092568263,false,17762\n",
      "\n",
      "Starting optimization iteration 18\n",
      "x1,x2,f1_value,f2_value,Valid,Timestamp\n",
      "18.172215889900563,-14.472278540101438,502.9319700120358,-75.84146021337841,false,18988\n",
      "\n",
      "Starting optimization iteration 19\n",
      "x1,x2,f1_value,f2_value,Valid,Timestamp\n",
      "19.68513021582193,-19.948146585853355,753.5886761329773,-261.6586734400022,false,20388\n",
      "\n",
      "Starting optimization iteration 20\n",
      "x1,x2,f1_value,f2_value,Valid,Timestamp\n",
      "-12.84610351223098,-17.53027405797606,565.7778461595777,-458.98598827377947,false,21607\n",
      "\n",
      "End of Bayesian Optimization\n",
      "End of HyperMapper\n"
     ]
    }
   ],
   "source": [
    "optimizer.optimize(\"example_chakong_haimes_scenario.json\", chakong_haimes)\n",
    "sys.stdout = stdout"
   ]
  },
  {
   "cell_type": "markdown",
   "metadata": {},
   "source": [
    "### Visualize Results\n",
    "We can visualize the optimization process using a Pareto front. \n",
    "\n",
    "The Pareto script computes the Pareto front considering only feasible points: "
   ]
  },
  {
   "cell_type": "code",
   "execution_count": 27,
   "metadata": {},
   "outputs": [
    {
     "data": {
      "text/html": [
       "\n",
       "        <iframe\n",
       "            width=\"1000\"\n",
       "            height=\"600\"\n",
       "            src=\"chakong_haimes_output_pareto.pdf\"\n",
       "            frameborder=\"0\"\n",
       "            allowfullscreen\n",
       "        ></iframe>\n",
       "        "
      ],
      "text/plain": [
       "<IPython.lib.display.IFrame at 0x7f23818e4b20>"
      ]
     },
     "execution_count": 27,
     "metadata": {},
     "output_type": "execute_result"
    }
   ],
   "source": [
    "!!hm-compute-pareto \"example_chakong_haimes_scenario.json\"\n",
    "!!hm-plot-pareto \"example_chakong_haimes_scenario.json\" \"chakong_haimes_output_pareto.pdf\"\n",
    "IFrame(\"chakong_haimes_output_pareto.pdf\", width=1000, height=600)"
   ]
  },
  {
   "cell_type": "code",
   "execution_count": null,
   "metadata": {},
   "outputs": [],
   "source": []
  }
 ],
 "metadata": {
  "interpreter": {
   "hash": "250026fef73b878ee0620318435d0e3814a65acb8de10f69f221128632466857"
  },
  "kernelspec": {
   "display_name": "Python 3.9.12 ('base')",
   "language": "python",
   "name": "python3"
  },
  "language_info": {
   "codemirror_mode": {
    "name": "ipython",
    "version": 3
   },
   "file_extension": ".py",
   "mimetype": "text/x-python",
   "name": "python",
   "nbconvert_exporter": "python",
   "pygments_lexer": "ipython3",
   "version": "3.9.12"
  }
 },
 "nbformat": 4,
 "nbformat_minor": 2
}
